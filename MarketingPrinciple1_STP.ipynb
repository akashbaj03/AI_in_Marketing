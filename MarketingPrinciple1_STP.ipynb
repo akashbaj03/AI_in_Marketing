{
  "nbformat": 4,
  "nbformat_minor": 0,
  "metadata": {
    "colab": {
      "name": "MarketingPrinciple1_STP.ipynb",
      "provenance": [],
      "collapsed_sections": [],
      "authorship_tag": "ABX9TyOsRYQlG3CF4+jvraBMECtL"
    },
    "kernelspec": {
      "name": "python3",
      "display_name": "Python 3"
    },
    "language_info": {
      "name": "python"
    }
  },
  "cells": [
    {
      "cell_type": "code",
      "metadata": {
        "id": "-JRZOGTSatRp"
      },
      "source": [
        "import pandas as pd\n",
        "import numpy as np\n",
        "import matplotlib.pyplot as plt\n",
        "import os\n",
        "import scipy.cluster.hierarchy as sch\n",
        "from sklearn.cluster import AgglomerativeClustering\n",
        "from sklearn.preprocessing import StandardScaler"
      ],
      "execution_count": 2,
      "outputs": []
    },
    {
      "cell_type": "code",
      "metadata": {
        "id": "sZ6AiPGla91E"
      },
      "source": [
        "customer_data = pd.read_excel(\"/content/Chapter 2 DentMax Case Dataset version 2_4.xlsx\")\n",
        "X = customer_data.iloc[:, range(1,18)].values\n",
        "\n",
        "scaler = StandardScaler()\n",
        "X_scaled = scaler.fit_transform(X)"
      ],
      "execution_count": 4,
      "outputs": []
    },
    {
      "cell_type": "code",
      "metadata": {
        "id": "W8U9-oa8bBk9",
        "colab": {
          "base_uri": "https://localhost:8080/",
          "height": 609
        },
        "outputId": "c048afd4-34bf-48ab-a890-9e95b02ff190"
      },
      "source": [
        "customer_data"
      ],
      "execution_count": 5,
      "outputs": [
        {
          "output_type": "execute_result",
          "data": {
            "text/html": [
              "<div>\n",
              "<style scoped>\n",
              "    .dataframe tbody tr th:only-of-type {\n",
              "        vertical-align: middle;\n",
              "    }\n",
              "\n",
              "    .dataframe tbody tr th {\n",
              "        vertical-align: top;\n",
              "    }\n",
              "\n",
              "    .dataframe thead th {\n",
              "        text-align: right;\n",
              "    }\n",
              "</style>\n",
              "<table border=\"1\" class=\"dataframe\">\n",
              "  <thead>\n",
              "    <tr style=\"text-align: right;\">\n",
              "      <th></th>\n",
              "      <th>Observations / Segmentation Variables</th>\n",
              "      <th>Time Spent at DentMax Booth</th>\n",
              "      <th>Time Spent at DentMed/OxyMax Booth</th>\n",
              "      <th>Total Time spent at show</th>\n",
              "      <th>% Buying from DentMax in the past</th>\n",
              "      <th>Historical Sales Index</th>\n",
              "      <th>Sales Frequency</th>\n",
              "      <th>Length of Relationship</th>\n",
              "      <th>Number of Referrals Offered</th>\n",
              "      <th>Importance of Image Quality</th>\n",
              "      <th>Importance of Diagnostic Flexibility</th>\n",
              "      <th>Importance of Software Intergation</th>\n",
              "      <th>Importance of Technical Assistance</th>\n",
              "      <th>Importance of Price</th>\n",
              "      <th>Trust in TV ads</th>\n",
              "      <th>Trust in Radio Ads</th>\n",
              "      <th>Trust in Internet Ads</th>\n",
              "      <th>Trust in Dental Magazine Ads</th>\n",
              "      <th>Trust in Peers</th>\n",
              "    </tr>\n",
              "  </thead>\n",
              "  <tbody>\n",
              "    <tr>\n",
              "      <th>0</th>\n",
              "      <td>Respondent 1</td>\n",
              "      <td>12</td>\n",
              "      <td>22</td>\n",
              "      <td>150</td>\n",
              "      <td>32</td>\n",
              "      <td>21</td>\n",
              "      <td>3</td>\n",
              "      <td>4</td>\n",
              "      <td>1</td>\n",
              "      <td>5</td>\n",
              "      <td>5</td>\n",
              "      <td>5</td>\n",
              "      <td>6</td>\n",
              "      <td>7</td>\n",
              "      <td>5</td>\n",
              "      <td>5</td>\n",
              "      <td>4</td>\n",
              "      <td>5</td>\n",
              "      <td>6</td>\n",
              "    </tr>\n",
              "    <tr>\n",
              "      <th>1</th>\n",
              "      <td>Respondent 2</td>\n",
              "      <td>13</td>\n",
              "      <td>22</td>\n",
              "      <td>150</td>\n",
              "      <td>32</td>\n",
              "      <td>20</td>\n",
              "      <td>3</td>\n",
              "      <td>4</td>\n",
              "      <td>1</td>\n",
              "      <td>5</td>\n",
              "      <td>5</td>\n",
              "      <td>5</td>\n",
              "      <td>7</td>\n",
              "      <td>7</td>\n",
              "      <td>5</td>\n",
              "      <td>5</td>\n",
              "      <td>4</td>\n",
              "      <td>5</td>\n",
              "      <td>5</td>\n",
              "    </tr>\n",
              "    <tr>\n",
              "      <th>2</th>\n",
              "      <td>Respondent 3</td>\n",
              "      <td>12</td>\n",
              "      <td>21</td>\n",
              "      <td>150</td>\n",
              "      <td>32</td>\n",
              "      <td>22</td>\n",
              "      <td>3</td>\n",
              "      <td>4</td>\n",
              "      <td>1</td>\n",
              "      <td>5</td>\n",
              "      <td>5</td>\n",
              "      <td>5</td>\n",
              "      <td>6</td>\n",
              "      <td>7</td>\n",
              "      <td>5</td>\n",
              "      <td>5</td>\n",
              "      <td>4</td>\n",
              "      <td>6</td>\n",
              "      <td>6</td>\n",
              "    </tr>\n",
              "    <tr>\n",
              "      <th>3</th>\n",
              "      <td>Respondent 4</td>\n",
              "      <td>11</td>\n",
              "      <td>21</td>\n",
              "      <td>150</td>\n",
              "      <td>33</td>\n",
              "      <td>21</td>\n",
              "      <td>3</td>\n",
              "      <td>4</td>\n",
              "      <td>1</td>\n",
              "      <td>5</td>\n",
              "      <td>5</td>\n",
              "      <td>5</td>\n",
              "      <td>6</td>\n",
              "      <td>7</td>\n",
              "      <td>4</td>\n",
              "      <td>5</td>\n",
              "      <td>4</td>\n",
              "      <td>5</td>\n",
              "      <td>5</td>\n",
              "    </tr>\n",
              "    <tr>\n",
              "      <th>4</th>\n",
              "      <td>Respondent 5</td>\n",
              "      <td>12</td>\n",
              "      <td>21</td>\n",
              "      <td>150</td>\n",
              "      <td>32</td>\n",
              "      <td>21</td>\n",
              "      <td>3</td>\n",
              "      <td>4</td>\n",
              "      <td>1</td>\n",
              "      <td>5</td>\n",
              "      <td>5</td>\n",
              "      <td>5</td>\n",
              "      <td>7</td>\n",
              "      <td>7</td>\n",
              "      <td>5</td>\n",
              "      <td>4</td>\n",
              "      <td>4</td>\n",
              "      <td>5</td>\n",
              "      <td>6</td>\n",
              "    </tr>\n",
              "    <tr>\n",
              "      <th>...</th>\n",
              "      <td>...</td>\n",
              "      <td>...</td>\n",
              "      <td>...</td>\n",
              "      <td>...</td>\n",
              "      <td>...</td>\n",
              "      <td>...</td>\n",
              "      <td>...</td>\n",
              "      <td>...</td>\n",
              "      <td>...</td>\n",
              "      <td>...</td>\n",
              "      <td>...</td>\n",
              "      <td>...</td>\n",
              "      <td>...</td>\n",
              "      <td>...</td>\n",
              "      <td>...</td>\n",
              "      <td>...</td>\n",
              "      <td>...</td>\n",
              "      <td>...</td>\n",
              "      <td>...</td>\n",
              "    </tr>\n",
              "    <tr>\n",
              "      <th>2295</th>\n",
              "      <td>Respondent 2296</td>\n",
              "      <td>12</td>\n",
              "      <td>21</td>\n",
              "      <td>150</td>\n",
              "      <td>32</td>\n",
              "      <td>21</td>\n",
              "      <td>3</td>\n",
              "      <td>4</td>\n",
              "      <td>1</td>\n",
              "      <td>5</td>\n",
              "      <td>5</td>\n",
              "      <td>5</td>\n",
              "      <td>6</td>\n",
              "      <td>7</td>\n",
              "      <td>5</td>\n",
              "      <td>5</td>\n",
              "      <td>4</td>\n",
              "      <td>6</td>\n",
              "      <td>5</td>\n",
              "    </tr>\n",
              "    <tr>\n",
              "      <th>2296</th>\n",
              "      <td>Respondent 2297</td>\n",
              "      <td>13</td>\n",
              "      <td>21</td>\n",
              "      <td>150</td>\n",
              "      <td>32</td>\n",
              "      <td>22</td>\n",
              "      <td>3</td>\n",
              "      <td>4</td>\n",
              "      <td>0</td>\n",
              "      <td>5</td>\n",
              "      <td>5</td>\n",
              "      <td>5</td>\n",
              "      <td>6</td>\n",
              "      <td>7</td>\n",
              "      <td>4</td>\n",
              "      <td>4</td>\n",
              "      <td>4</td>\n",
              "      <td>5</td>\n",
              "      <td>6</td>\n",
              "    </tr>\n",
              "    <tr>\n",
              "      <th>2297</th>\n",
              "      <td>Respondent 2298</td>\n",
              "      <td>35</td>\n",
              "      <td>78</td>\n",
              "      <td>180</td>\n",
              "      <td>46</td>\n",
              "      <td>64</td>\n",
              "      <td>5</td>\n",
              "      <td>9</td>\n",
              "      <td>2</td>\n",
              "      <td>6</td>\n",
              "      <td>6</td>\n",
              "      <td>6</td>\n",
              "      <td>6</td>\n",
              "      <td>6</td>\n",
              "      <td>4</td>\n",
              "      <td>5</td>\n",
              "      <td>6</td>\n",
              "      <td>6</td>\n",
              "      <td>7</td>\n",
              "    </tr>\n",
              "    <tr>\n",
              "      <th>2298</th>\n",
              "      <td>Respondent 2299</td>\n",
              "      <td>12</td>\n",
              "      <td>21</td>\n",
              "      <td>150</td>\n",
              "      <td>32</td>\n",
              "      <td>20</td>\n",
              "      <td>3</td>\n",
              "      <td>4</td>\n",
              "      <td>0</td>\n",
              "      <td>5</td>\n",
              "      <td>5</td>\n",
              "      <td>5</td>\n",
              "      <td>6</td>\n",
              "      <td>7</td>\n",
              "      <td>4</td>\n",
              "      <td>5</td>\n",
              "      <td>4</td>\n",
              "      <td>5</td>\n",
              "      <td>6</td>\n",
              "    </tr>\n",
              "    <tr>\n",
              "      <th>2299</th>\n",
              "      <td>Respondent 2300</td>\n",
              "      <td>12</td>\n",
              "      <td>21</td>\n",
              "      <td>150</td>\n",
              "      <td>32</td>\n",
              "      <td>20</td>\n",
              "      <td>3</td>\n",
              "      <td>4</td>\n",
              "      <td>1</td>\n",
              "      <td>5</td>\n",
              "      <td>5</td>\n",
              "      <td>5</td>\n",
              "      <td>6</td>\n",
              "      <td>6</td>\n",
              "      <td>5</td>\n",
              "      <td>4</td>\n",
              "      <td>4</td>\n",
              "      <td>5</td>\n",
              "      <td>5</td>\n",
              "    </tr>\n",
              "  </tbody>\n",
              "</table>\n",
              "<p>2300 rows × 19 columns</p>\n",
              "</div>"
            ],
            "text/plain": [
              "     Observations / Segmentation Variables  ...  Trust in Peers\n",
              "0                             Respondent 1  ...               6\n",
              "1                             Respondent 2  ...               5\n",
              "2                             Respondent 3  ...               6\n",
              "3                             Respondent 4  ...               5\n",
              "4                             Respondent 5  ...               6\n",
              "...                                    ...  ...             ...\n",
              "2295                       Respondent 2296  ...               5\n",
              "2296                       Respondent 2297  ...               6\n",
              "2297                       Respondent 2298  ...               7\n",
              "2298                       Respondent 2299  ...               6\n",
              "2299                       Respondent 2300  ...               5\n",
              "\n",
              "[2300 rows x 19 columns]"
            ]
          },
          "metadata": {
            "tags": []
          },
          "execution_count": 5
        }
      ]
    },
    {
      "cell_type": "markdown",
      "metadata": {
        "id": "6vU0vObxbGIC"
      },
      "source": [
        "# Hierarchical Clustering (Ward's method)"
      ]
    },
    {
      "cell_type": "code",
      "metadata": {
        "id": "u_7WOEzCbD69",
        "colab": {
          "base_uri": "https://localhost:8080/",
          "height": 298
        },
        "outputId": "0ad31492-dd27-487a-ea25-fc755a6f423f"
      },
      "source": [
        "dendrogram = sch.dendrogram(sch.linkage(X_scaled, method  = \"ward\"))\n",
        "plt.title('Dendrogram')\n",
        "plt.xlabel('Customers')\n",
        "plt.ylabel('Euclidean distances')\n",
        "plt.show()"
      ],
      "execution_count": 6,
      "outputs": [
        {
          "output_type": "display_data",
          "data": {
            "image/png": "[encoded data removed]",
            "text/plain": [
              "<Figure size 432x288 with 1 Axes>"
            ]
          },
          "metadata": {
            "tags": [],
            "needs_background": "light"
          }
        }
      ]
    },
    {
      "cell_type": "code",
      "metadata": {
        "id": "0faXWrVxbD9Y",
        "colab": {
          "base_uri": "https://localhost:8080/"
        },
        "outputId": "03d6ddb0-1b21-40b9-e433-611641a1751d"
      },
      "source": [
        "hc = AgglomerativeClustering(n_clusters = 4, affinity = 'euclidean', linkage ='ward')\n",
        "y_hc=hc.fit_predict(X)\n",
        "y_hc"
      ],
      "execution_count": 7,
      "outputs": [
        {
          "output_type": "execute_result",
          "data": {
            "text/plain": [
              "array([0, 0, 0, ..., 2, 0, 0])"
            ]
          },
          "metadata": {
            "tags": []
          },
          "execution_count": 7
        }
      ]
    },
    {
      "cell_type": "markdown",
      "metadata": {
        "id": "G7lv_STbbOhn"
      },
      "source": [
        "# K-Means Clustering"
      ]
    },
    {
      "cell_type": "code",
      "metadata": {
        "id": "iXJOvvMxbEAH"
      },
      "source": [
        "from sklearn.cluster import KMeans"
      ],
      "execution_count": 8,
      "outputs": []
    },
    {
      "cell_type": "code",
      "metadata": {
        "id": "3h3XtkfQbEG4",
        "colab": {
          "base_uri": "https://localhost:8080/",
          "height": 405
        },
        "outputId": "e512901e-7834-4d37-f30f-10c160dd87f1"
      },
      "source": [
        "SSE = []\n",
        "for cluster in range(1,20):\n",
        "    kmeans = KMeans(n_clusters = cluster, init='k-means++')\n",
        "    kmeans.fit(X_scaled)\n",
        "    SSE.append(kmeans.inertia_)\n",
        "\n",
        "# converting the results into a dataframe and plotting them\n",
        "frame = pd.DataFrame({'Cluster':range(1,20), 'SSE':SSE})\n",
        "plt.figure(figsize=(12,6))\n",
        "plt.plot(frame['Cluster'], frame['SSE'], marker='o')\n",
        "plt.xlabel('Number of clusters')\n",
        "plt.xticks(np.arange(1, 20, step=2))\n",
        "plt.ylabel('Inertia')"
      ],
      "execution_count": 9,
      "outputs": [
        {
          "output_type": "execute_result",
          "data": {
            "text/plain": [
              "Text(0, 0.5, 'Inertia')"
            ]
          },
          "metadata": {
            "tags": []
          },
          "execution_count": 9
        },
        {
          "output_type": "display_data",
          "data": {
            "image/png": "[encoded data removed]",
            "text/plain": [
              "<Figure size 864x432 with 1 Axes>"
            ]
          },
          "metadata": {
            "tags": [],
            "needs_background": "light"
          }
        }
      ]
    },
    {
      "cell_type": "markdown",
      "metadata": {
        "id": "wpdcvCyibVHG"
      },
      "source": [
        "# FACTOR ANALYSIS"
      ]
    },
    {
      "cell_type": "code",
      "metadata": {
        "id": "sM-UB1w7bEJN",
        "colab": {
          "base_uri": "https://localhost:8080/"
        },
        "outputId": "03152b8b-76f0-42cd-c0bd-bd9bbf60e5a8"
      },
      "source": [
        "!pip install factor_analyzer  \n",
        "from factor_analyzer import FactorAnalyzer"
      ],
      "execution_count": 10,
      "outputs": [
        {
          "output_type": "stream",
          "text": [
            "Collecting factor_analyzer\n",
            "  Downloading factor_analyzer-0.3.2.tar.gz (40 kB)\n",
            "\u001b[?25l\r\u001b[K     |████████▏                       | 10 kB 20.5 MB/s eta 0:00:01\r\u001b[K     |████████████████▍               | 20 kB 24.5 MB/s eta 0:00:01\r\u001b[K     |████████████████████████▌       | 30 kB 16.4 MB/s eta 0:00:01\r\u001b[K     |████████████████████████████████| 40 kB 3.4 MB/s \n",
            "\u001b[?25hRequirement already satisfied: pandas in /usr/local/lib/python3.7/dist-packages (from factor_analyzer) (1.1.5)\n",
            "Requirement already satisfied: scipy in /usr/local/lib/python3.7/dist-packages (from factor_analyzer) (1.4.1)\n",
            "Requirement already satisfied: numpy in /usr/local/lib/python3.7/dist-packages (from factor_analyzer) (1.19.5)\n",
            "Requirement already satisfied: scikit-learn in /usr/local/lib/python3.7/dist-packages (from factor_analyzer) (0.22.2.post1)\n",
            "Requirement already satisfied: python-dateutil>=2.7.3 in /usr/local/lib/python3.7/dist-packages (from pandas->factor_analyzer) (2.8.1)\n",
            "Requirement already satisfied: pytz>=2017.2 in /usr/local/lib/python3.7/dist-packages (from pandas->factor_analyzer) (2018.9)\n",
            "Requirement already satisfied: six>=1.5 in /usr/local/lib/python3.7/dist-packages (from python-dateutil>=2.7.3->pandas->factor_analyzer) (1.15.0)\n",
            "Requirement already satisfied: joblib>=0.11 in /usr/local/lib/python3.7/dist-packages (from scikit-learn->factor_analyzer) (1.0.1)\n",
            "Building wheels for collected packages: factor-analyzer\n",
            "  Building wheel for factor-analyzer (setup.py) ... \u001b[?25l\u001b[?25hdone\n",
            "  Created wheel for factor-analyzer: filename=factor_analyzer-0.3.2-py3-none-any.whl size=40395 sha256=f08b8e52fb6b575d8285c85dbd54bb32cca9c7bd55754e08c88e13b15b6ea49c\n",
            "  Stored in directory: /root/.cache/pip/wheels/8d/9e/4c/fd4cb92cecf157b13702cc0907e5c56ddc48e5388134dc9f1a\n",
            "Successfully built factor-analyzer\n",
            "Installing collected packages: factor-analyzer\n",
            "Successfully installed factor-analyzer-0.3.2\n"
          ],
          "name": "stdout"
        }
      ]
    },
    {
      "cell_type": "code",
      "metadata": {
        "id": "i_Wmg7LTbELg",
        "colab": {
          "base_uri": "https://localhost:8080/",
          "height": 297
        },
        "outputId": "0e27762e-a3c5-49e4-baf8-b513b76e9588"
      },
      "source": [
        "#Subset of the data, the 14 columns containing the survey answers\n",
        "x =customer_data.iloc[:,range(1,18)] \n",
        "fa = FactorAnalyzer()\n",
        "fa.fit(x, 10)\n",
        "#Get Eigen values and plot them\n",
        "ev, v = fa.get_eigenvalues()\n",
        "ev\n",
        "plt.xlabel(\"Factors\")\n",
        "plt.ylabel(\"Eigen Value\")\n",
        "plt.plot(range(1,x.shape[1]+1),ev)"
      ],
      "execution_count": 11,
      "outputs": [
        {
          "output_type": "execute_result",
          "data": {
            "text/plain": [
              "[<matplotlib.lines.Line2D at 0x7fb84d154cd0>]"
            ]
          },
          "metadata": {
            "tags": []
          },
          "execution_count": 11
        },
        {
          "output_type": "display_data",
          "data": {
            "image/png": "[encoded data removed]",
            "text/plain": [
              "<Figure size 432x288 with 1 Axes>"
            ]
          },
          "metadata": {
            "tags": [],
            "needs_background": "light"
          }
        }
      ]
    },
    {
      "cell_type": "markdown",
      "metadata": {
        "id": "RyJH1YYzbc6F"
      },
      "source": [
        "# Targeting"
      ]
    },
    {
      "cell_type": "code",
      "metadata": {
        "id": "tKSCyrfCbENp",
        "colab": {
          "base_uri": "https://localhost:8080/",
          "height": 524
        },
        "outputId": "22c269f0-5831-4f04-9701-e61b8cae3278"
      },
      "source": [
        "target_data = customer_data\n",
        "target_data['cluster'] = y_hc\n",
        "target_data = target_data.drop(['Observations / Segmentation Variables'], axis=1)\n",
        "target_data"
      ],
      "execution_count": 15,
      "outputs": [
        {
          "output_type": "execute_result",
          "data": {
            "text/html": [
              "<div>\n",
              "<style scoped>\n",
              "    .dataframe tbody tr th:only-of-type {\n",
              "        vertical-align: middle;\n",
              "    }\n",
              "\n",
              "    .dataframe tbody tr th {\n",
              "        vertical-align: top;\n",
              "    }\n",
              "\n",
              "    .dataframe thead th {\n",
              "        text-align: right;\n",
              "    }\n",
              "</style>\n",
              "<table border=\"1\" class=\"dataframe\">\n",
              "  <thead>\n",
              "    <tr style=\"text-align: right;\">\n",
              "      <th></th>\n",
              "      <th>Time Spent at DentMax Booth</th>\n",
              "      <th>Time Spent at DentMed/OxyMax Booth</th>\n",
              "      <th>Total Time spent at show</th>\n",
              "      <th>% Buying from DentMax in the past</th>\n",
              "      <th>Historical Sales Index</th>\n",
              "      <th>Sales Frequency</th>\n",
              "      <th>Length of Relationship</th>\n",
              "      <th>Number of Referrals Offered</th>\n",
              "      <th>Importance of Image Quality</th>\n",
              "      <th>Importance of Diagnostic Flexibility</th>\n",
              "      <th>Importance of Software Intergation</th>\n",
              "      <th>Importance of Technical Assistance</th>\n",
              "      <th>Importance of Price</th>\n",
              "      <th>Trust in TV ads</th>\n",
              "      <th>Trust in Radio Ads</th>\n",
              "      <th>Trust in Internet Ads</th>\n",
              "      <th>Trust in Dental Magazine Ads</th>\n",
              "      <th>Trust in Peers</th>\n",
              "      <th>cluster</th>\n",
              "    </tr>\n",
              "  </thead>\n",
              "  <tbody>\n",
              "    <tr>\n",
              "      <th>0</th>\n",
              "      <td>12</td>\n",
              "      <td>22</td>\n",
              "      <td>150</td>\n",
              "      <td>32</td>\n",
              "      <td>21</td>\n",
              "      <td>3</td>\n",
              "      <td>4</td>\n",
              "      <td>1</td>\n",
              "      <td>5</td>\n",
              "      <td>5</td>\n",
              "      <td>5</td>\n",
              "      <td>6</td>\n",
              "      <td>7</td>\n",
              "      <td>5</td>\n",
              "      <td>5</td>\n",
              "      <td>4</td>\n",
              "      <td>5</td>\n",
              "      <td>6</td>\n",
              "      <td>0</td>\n",
              "    </tr>\n",
              "    <tr>\n",
              "      <th>1</th>\n",
              "      <td>13</td>\n",
              "      <td>22</td>\n",
              "      <td>150</td>\n",
              "      <td>32</td>\n",
              "      <td>20</td>\n",
              "      <td>3</td>\n",
              "      <td>4</td>\n",
              "      <td>1</td>\n",
              "      <td>5</td>\n",
              "      <td>5</td>\n",
              "      <td>5</td>\n",
              "      <td>7</td>\n",
              "      <td>7</td>\n",
              "      <td>5</td>\n",
              "      <td>5</td>\n",
              "      <td>4</td>\n",
              "      <td>5</td>\n",
              "      <td>5</td>\n",
              "      <td>0</td>\n",
              "    </tr>\n",
              "    <tr>\n",
              "      <th>2</th>\n",
              "      <td>12</td>\n",
              "      <td>21</td>\n",
              "      <td>150</td>\n",
              "      <td>32</td>\n",
              "      <td>22</td>\n",
              "      <td>3</td>\n",
              "      <td>4</td>\n",
              "      <td>1</td>\n",
              "      <td>5</td>\n",
              "      <td>5</td>\n",
              "      <td>5</td>\n",
              "      <td>6</td>\n",
              "      <td>7</td>\n",
              "      <td>5</td>\n",
              "      <td>5</td>\n",
              "      <td>4</td>\n",
              "      <td>6</td>\n",
              "      <td>6</td>\n",
              "      <td>0</td>\n",
              "    </tr>\n",
              "    <tr>\n",
              "      <th>3</th>\n",
              "      <td>11</td>\n",
              "      <td>21</td>\n",
              "      <td>150</td>\n",
              "      <td>33</td>\n",
              "      <td>21</td>\n",
              "      <td>3</td>\n",
              "      <td>4</td>\n",
              "      <td>1</td>\n",
              "      <td>5</td>\n",
              "      <td>5</td>\n",
              "      <td>5</td>\n",
              "      <td>6</td>\n",
              "      <td>7</td>\n",
              "      <td>4</td>\n",
              "      <td>5</td>\n",
              "      <td>4</td>\n",
              "      <td>5</td>\n",
              "      <td>5</td>\n",
              "      <td>0</td>\n",
              "    </tr>\n",
              "    <tr>\n",
              "      <th>4</th>\n",
              "      <td>12</td>\n",
              "      <td>21</td>\n",
              "      <td>150</td>\n",
              "      <td>32</td>\n",
              "      <td>21</td>\n",
              "      <td>3</td>\n",
              "      <td>4</td>\n",
              "      <td>1</td>\n",
              "      <td>5</td>\n",
              "      <td>5</td>\n",
              "      <td>5</td>\n",
              "      <td>7</td>\n",
              "      <td>7</td>\n",
              "      <td>5</td>\n",
              "      <td>4</td>\n",
              "      <td>4</td>\n",
              "      <td>5</td>\n",
              "      <td>6</td>\n",
              "      <td>0</td>\n",
              "    </tr>\n",
              "    <tr>\n",
              "      <th>...</th>\n",
              "      <td>...</td>\n",
              "      <td>...</td>\n",
              "      <td>...</td>\n",
              "      <td>...</td>\n",
              "      <td>...</td>\n",
              "      <td>...</td>\n",
              "      <td>...</td>\n",
              "      <td>...</td>\n",
              "      <td>...</td>\n",
              "      <td>...</td>\n",
              "      <td>...</td>\n",
              "      <td>...</td>\n",
              "      <td>...</td>\n",
              "      <td>...</td>\n",
              "      <td>...</td>\n",
              "      <td>...</td>\n",
              "      <td>...</td>\n",
              "      <td>...</td>\n",
              "      <td>...</td>\n",
              "    </tr>\n",
              "    <tr>\n",
              "      <th>2295</th>\n",
              "      <td>12</td>\n",
              "      <td>21</td>\n",
              "      <td>150</td>\n",
              "      <td>32</td>\n",
              "      <td>21</td>\n",
              "      <td>3</td>\n",
              "      <td>4</td>\n",
              "      <td>1</td>\n",
              "      <td>5</td>\n",
              "      <td>5</td>\n",
              "      <td>5</td>\n",
              "      <td>6</td>\n",
              "      <td>7</td>\n",
              "      <td>5</td>\n",
              "      <td>5</td>\n",
              "      <td>4</td>\n",
              "      <td>6</td>\n",
              "      <td>5</td>\n",
              "      <td>0</td>\n",
              "    </tr>\n",
              "    <tr>\n",
              "      <th>2296</th>\n",
              "      <td>13</td>\n",
              "      <td>21</td>\n",
              "      <td>150</td>\n",
              "      <td>32</td>\n",
              "      <td>22</td>\n",
              "      <td>3</td>\n",
              "      <td>4</td>\n",
              "      <td>0</td>\n",
              "      <td>5</td>\n",
              "      <td>5</td>\n",
              "      <td>5</td>\n",
              "      <td>6</td>\n",
              "      <td>7</td>\n",
              "      <td>4</td>\n",
              "      <td>4</td>\n",
              "      <td>4</td>\n",
              "      <td>5</td>\n",
              "      <td>6</td>\n",
              "      <td>0</td>\n",
              "    </tr>\n",
              "    <tr>\n",
              "      <th>2297</th>\n",
              "      <td>35</td>\n",
              "      <td>78</td>\n",
              "      <td>180</td>\n",
              "      <td>46</td>\n",
              "      <td>64</td>\n",
              "      <td>5</td>\n",
              "      <td>9</td>\n",
              "      <td>2</td>\n",
              "      <td>6</td>\n",
              "      <td>6</td>\n",
              "      <td>6</td>\n",
              "      <td>6</td>\n",
              "      <td>6</td>\n",
              "      <td>4</td>\n",
              "      <td>5</td>\n",
              "      <td>6</td>\n",
              "      <td>6</td>\n",
              "      <td>7</td>\n",
              "      <td>2</td>\n",
              "    </tr>\n",
              "    <tr>\n",
              "      <th>2298</th>\n",
              "      <td>12</td>\n",
              "      <td>21</td>\n",
              "      <td>150</td>\n",
              "      <td>32</td>\n",
              "      <td>20</td>\n",
              "      <td>3</td>\n",
              "      <td>4</td>\n",
              "      <td>0</td>\n",
              "      <td>5</td>\n",
              "      <td>5</td>\n",
              "      <td>5</td>\n",
              "      <td>6</td>\n",
              "      <td>7</td>\n",
              "      <td>4</td>\n",
              "      <td>5</td>\n",
              "      <td>4</td>\n",
              "      <td>5</td>\n",
              "      <td>6</td>\n",
              "      <td>0</td>\n",
              "    </tr>\n",
              "    <tr>\n",
              "      <th>2299</th>\n",
              "      <td>12</td>\n",
              "      <td>21</td>\n",
              "      <td>150</td>\n",
              "      <td>32</td>\n",
              "      <td>20</td>\n",
              "      <td>3</td>\n",
              "      <td>4</td>\n",
              "      <td>1</td>\n",
              "      <td>5</td>\n",
              "      <td>5</td>\n",
              "      <td>5</td>\n",
              "      <td>6</td>\n",
              "      <td>6</td>\n",
              "      <td>5</td>\n",
              "      <td>4</td>\n",
              "      <td>4</td>\n",
              "      <td>5</td>\n",
              "      <td>5</td>\n",
              "      <td>0</td>\n",
              "    </tr>\n",
              "  </tbody>\n",
              "</table>\n",
              "<p>2300 rows × 19 columns</p>\n",
              "</div>"
            ],
            "text/plain": [
              "      Time Spent at DentMax Booth  ...  cluster\n",
              "0                              12  ...        0\n",
              "1                              13  ...        0\n",
              "2                              12  ...        0\n",
              "3                              11  ...        0\n",
              "4                              12  ...        0\n",
              "...                           ...  ...      ...\n",
              "2295                           12  ...        0\n",
              "2296                           13  ...        0\n",
              "2297                           35  ...        2\n",
              "2298                           12  ...        0\n",
              "2299                           12  ...        0\n",
              "\n",
              "[2300 rows x 19 columns]"
            ]
          },
          "metadata": {
            "tags": []
          },
          "execution_count": 15
        }
      ]
    },
    {
      "cell_type": "code",
      "metadata": {
        "id": "0H28qpK7bEQG"
      },
      "source": [
        "summed_target_data = target_data.groupby(['cluster']).mean()"
      ],
      "execution_count": 16,
      "outputs": []
    },
    {
      "cell_type": "code",
      "metadata": {
        "id": "6nG_jVECbESD"
      },
      "source": [
        "from sklearn.preprocessing import MinMaxScaler\n",
        "\n",
        "scaler = MinMaxScaler()\n",
        "summed_target_data_scaled = pd.DataFrame(scaler.fit_transform(summed_target_data), columns = summed_target_data.columns)\n",
        "#summed_target_data = summed_target_data.reset_index()"
      ],
      "execution_count": 17,
      "outputs": []
    },
    {
      "cell_type": "code",
      "metadata": {
        "id": "XnRRJkbnbET0",
        "colab": {
          "base_uri": "https://localhost:8080/",
          "height": 278
        },
        "outputId": "58bcb73d-b522-4c12-85e6-b1658cff7243"
      },
      "source": [
        "summed_target_data_scaled"
      ],
      "execution_count": 18,
      "outputs": [
        {
          "output_type": "execute_result",
          "data": {
            "text/html": [
              "<div>\n",
              "<style scoped>\n",
              "    .dataframe tbody tr th:only-of-type {\n",
              "        vertical-align: middle;\n",
              "    }\n",
              "\n",
              "    .dataframe tbody tr th {\n",
              "        vertical-align: top;\n",
              "    }\n",
              "\n",
              "    .dataframe thead th {\n",
              "        text-align: right;\n",
              "    }\n",
              "</style>\n",
              "<table border=\"1\" class=\"dataframe\">\n",
              "  <thead>\n",
              "    <tr style=\"text-align: right;\">\n",
              "      <th></th>\n",
              "      <th>Time Spent at DentMax Booth</th>\n",
              "      <th>Time Spent at DentMed/OxyMax Booth</th>\n",
              "      <th>Total Time spent at show</th>\n",
              "      <th>% Buying from DentMax in the past</th>\n",
              "      <th>Historical Sales Index</th>\n",
              "      <th>Sales Frequency</th>\n",
              "      <th>Length of Relationship</th>\n",
              "      <th>Number of Referrals Offered</th>\n",
              "      <th>Importance of Image Quality</th>\n",
              "      <th>Importance of Diagnostic Flexibility</th>\n",
              "      <th>Importance of Software Intergation</th>\n",
              "      <th>Importance of Technical Assistance</th>\n",
              "      <th>Importance of Price</th>\n",
              "      <th>Trust in TV ads</th>\n",
              "      <th>Trust in Radio Ads</th>\n",
              "      <th>Trust in Internet Ads</th>\n",
              "      <th>Trust in Dental Magazine Ads</th>\n",
              "      <th>Trust in Peers</th>\n",
              "    </tr>\n",
              "  </thead>\n",
              "  <tbody>\n",
              "    <tr>\n",
              "      <th>0</th>\n",
              "      <td>0.153636</td>\n",
              "      <td>0.149293</td>\n",
              "      <td>0.750079</td>\n",
              "      <td>0.276934</td>\n",
              "      <td>0.217778</td>\n",
              "      <td>0.403645</td>\n",
              "      <td>0.000000</td>\n",
              "      <td>0.041925</td>\n",
              "      <td>0.368939</td>\n",
              "      <td>0.344517</td>\n",
              "      <td>0.440581</td>\n",
              "      <td>0.377094</td>\n",
              "      <td>0.964498</td>\n",
              "      <td>0.752806</td>\n",
              "      <td>0.725203</td>\n",
              "      <td>0.333422</td>\n",
              "      <td>0.497196</td>\n",
              "      <td>0.369062</td>\n",
              "    </tr>\n",
              "    <tr>\n",
              "      <th>1</th>\n",
              "      <td>0.000000</td>\n",
              "      <td>0.000000</td>\n",
              "      <td>0.000000</td>\n",
              "      <td>0.000000</td>\n",
              "      <td>0.000000</td>\n",
              "      <td>0.000000</td>\n",
              "      <td>0.953091</td>\n",
              "      <td>0.000000</td>\n",
              "      <td>0.000000</td>\n",
              "      <td>0.000000</td>\n",
              "      <td>0.000000</td>\n",
              "      <td>1.000000</td>\n",
              "      <td>1.000000</td>\n",
              "      <td>0.000000</td>\n",
              "      <td>0.000000</td>\n",
              "      <td>0.000000</td>\n",
              "      <td>0.000000</td>\n",
              "      <td>0.000000</td>\n",
              "    </tr>\n",
              "    <tr>\n",
              "      <th>2</th>\n",
              "      <td>0.768780</td>\n",
              "      <td>1.000000</td>\n",
              "      <td>1.000000</td>\n",
              "      <td>0.415790</td>\n",
              "      <td>1.000000</td>\n",
              "      <td>0.655666</td>\n",
              "      <td>1.000000</td>\n",
              "      <td>0.172760</td>\n",
              "      <td>0.733814</td>\n",
              "      <td>0.501274</td>\n",
              "      <td>1.000000</td>\n",
              "      <td>0.313658</td>\n",
              "      <td>0.628798</td>\n",
              "      <td>0.252386</td>\n",
              "      <td>1.000000</td>\n",
              "      <td>1.000000</td>\n",
              "      <td>0.788751</td>\n",
              "      <td>1.000000</td>\n",
              "    </tr>\n",
              "    <tr>\n",
              "      <th>3</th>\n",
              "      <td>1.000000</td>\n",
              "      <td>0.223593</td>\n",
              "      <td>0.583195</td>\n",
              "      <td>1.000000</td>\n",
              "      <td>0.891176</td>\n",
              "      <td>1.000000</td>\n",
              "      <td>0.801410</td>\n",
              "      <td>1.000000</td>\n",
              "      <td>1.000000</td>\n",
              "      <td>1.000000</td>\n",
              "      <td>0.089201</td>\n",
              "      <td>0.000000</td>\n",
              "      <td>0.000000</td>\n",
              "      <td>1.000000</td>\n",
              "      <td>0.256982</td>\n",
              "      <td>0.258116</td>\n",
              "      <td>1.000000</td>\n",
              "      <td>0.492906</td>\n",
              "    </tr>\n",
              "  </tbody>\n",
              "</table>\n",
              "</div>"
            ],
            "text/plain": [
              "   Time Spent at DentMax Booth  ...  Trust in Peers\n",
              "0                     0.153636  ...        0.369062\n",
              "1                     0.000000  ...        0.000000\n",
              "2                     0.768780  ...        1.000000\n",
              "3                     1.000000  ...        0.492906\n",
              "\n",
              "[4 rows x 18 columns]"
            ]
          },
          "metadata": {
            "tags": []
          },
          "execution_count": 18
        }
      ]
    },
    {
      "cell_type": "code",
      "metadata": {
        "id": "3fn5clgWbEZO"
      },
      "source": [
        "ge_matrix_data = pd.DataFrame(columns=['Financial_gain','Competitive_edge','Size'])\n",
        "ge_matrix_data['Financial_gain'] = summed_target_data_scaled[['Historical Sales Index','Sales Frequency','Length of Relationship','Number of Referrals Offered']].mean(axis=1)*100\n",
        "ge_matrix_data['Competitive_edge'] = summed_target_data[['Time Spent at DentMax Booth']].values/summed_target_data[['Total Time spent at show']].values*100\n",
        "ge_matrix_data['Size'] = pd.DataFrame(target_data.cluster.value_counts(normalize=True)).sort_index()*100"
      ],
      "execution_count": 19,
      "outputs": []
    },
    {
      "cell_type": "code",
      "metadata": {
        "id": "Rk9aXXixbEdC",
        "colab": {
          "base_uri": "https://localhost:8080/",
          "height": 173
        },
        "outputId": "01e299ea-7f62-416f-d8fa-2c745edc7041"
      },
      "source": [
        "\n",
        "ge_matrix_data"
      ],
      "execution_count": 20,
      "outputs": [
        {
          "output_type": "execute_result",
          "data": {
            "text/html": [
              "<div>\n",
              "<style scoped>\n",
              "    .dataframe tbody tr th:only-of-type {\n",
              "        vertical-align: middle;\n",
              "    }\n",
              "\n",
              "    .dataframe tbody tr th {\n",
              "        vertical-align: top;\n",
              "    }\n",
              "\n",
              "    .dataframe thead th {\n",
              "        text-align: right;\n",
              "    }\n",
              "</style>\n",
              "<table border=\"1\" class=\"dataframe\">\n",
              "  <thead>\n",
              "    <tr style=\"text-align: right;\">\n",
              "      <th></th>\n",
              "      <th>Financial_gain</th>\n",
              "      <th>Competitive_edge</th>\n",
              "      <th>Size</th>\n",
              "    </tr>\n",
              "  </thead>\n",
              "  <tbody>\n",
              "    <tr>\n",
              "      <th>0</th>\n",
              "      <td>16.583717</td>\n",
              "      <td>8.014904</td>\n",
              "      <td>49.0</td>\n",
              "    </tr>\n",
              "    <tr>\n",
              "      <th>1</th>\n",
              "      <td>23.827287</td>\n",
              "      <td>10.061365</td>\n",
              "      <td>17.0</td>\n",
              "    </tr>\n",
              "    <tr>\n",
              "      <th>2</th>\n",
              "      <td>70.710648</td>\n",
              "      <td>19.994072</td>\n",
              "      <td>22.0</td>\n",
              "    </tr>\n",
              "    <tr>\n",
              "      <th>3</th>\n",
              "      <td>92.314659</td>\n",
              "      <td>34.617207</td>\n",
              "      <td>12.0</td>\n",
              "    </tr>\n",
              "  </tbody>\n",
              "</table>\n",
              "</div>"
            ],
            "text/plain": [
              "   Financial_gain  Competitive_edge  Size\n",
              "0       16.583717          8.014904  49.0\n",
              "1       23.827287         10.061365  17.0\n",
              "2       70.710648         19.994072  22.0\n",
              "3       92.314659         34.617207  12.0"
            ]
          },
          "metadata": {
            "tags": []
          },
          "execution_count": 20
        }
      ]
    },
    {
      "cell_type": "code",
      "metadata": {
        "id": "cq4n8Q_xbEgC",
        "colab": {
          "base_uri": "https://localhost:8080/",
          "height": 393
        },
        "outputId": "9b297475-046d-485f-ba48-2a32b51a8b7c"
      },
      "source": [
        "plt.figure(figsize=(8,6))\n",
        "\n",
        "plt.xlabel(\"Financial Gain\", size=16)\n",
        "plt.ylabel(\"Competitive Edge\", size=16)\n",
        "scatter = plt.scatter(ge_matrix_data.Financial_gain, ge_matrix_data.Competitive_edge, c = ge_matrix_data.index, s=10*ge_matrix_data.Size)\n",
        "\n",
        "plt.show()"
      ],
      "execution_count": 21,
      "outputs": [
        {
          "output_type": "display_data",
          "data": {
            "image/png": "[encoded data removed]",
            "text/plain": [
              "<Figure size 576x432 with 1 Axes>"
            ]
          },
          "metadata": {
            "tags": [],
            "needs_background": "light"
          }
        }
      ]
    },
    {
      "cell_type": "code",
      "metadata": {
        "id": "UIpJaPILbztK",
        "colab": {
          "base_uri": "https://localhost:8080/",
          "height": 298
        },
        "outputId": "41307f56-e23f-472d-ae5d-964cca5067b9"
      },
      "source": [
        "plot_data = target_data[target_data.cluster == 0]\n",
        "p = plot_data[['Trust in TV ads','Trust in Radio Ads','Trust in Internet Ads','Trust in Dental Magazine Ads','Trust in Peers']].mode()\n",
        "p.loc[0].plot(kind = 'barh', title = 'Switchables')"
      ],
      "execution_count": 22,
      "outputs": [
        {
          "output_type": "execute_result",
          "data": {
            "text/plain": [
              "<matplotlib.axes._subplots.AxesSubplot at 0x7fb8456456d0>"
            ]
          },
          "metadata": {
            "tags": []
          },
          "execution_count": 22
        },
        {
          "output_type": "display_data",
          "data": {
            "image/png": "[encoded data removed]",
            "text/plain": [
              "<Figure size 432x288 with 1 Axes>"
            ]
          },
          "metadata": {
            "tags": [],
            "needs_background": "light"
          }
        }
      ]
    },
    {
      "cell_type": "markdown",
      "metadata": {
        "id": "7Fld1hIgb21R"
      },
      "source": [
        "# Positioning"
      ]
    },
    {
      "cell_type": "code",
      "metadata": {
        "id": "LWDd6z2ebzvy"
      },
      "source": [
        ""
      ],
      "execution_count": 22,
      "outputs": []
    },
    {
      "cell_type": "code",
      "metadata": {
        "id": "dLY8pFb1bzy8"
      },
      "source": [
        "interested_segment_data = target_data[target_data.cluster == 2]"
      ],
      "execution_count": 23,
      "outputs": []
    },
    {
      "cell_type": "code",
      "metadata": {
        "id": "K6Q1rzCqbz2P",
        "colab": {
          "base_uri": "https://localhost:8080/",
          "height": 524
        },
        "outputId": "9e5cad09-9c68-41fb-9084-b5ef5dfa3623"
      },
      "source": [
        "interested_segment_data"
      ],
      "execution_count": 24,
      "outputs": [
        {
          "output_type": "execute_result",
          "data": {
            "text/html": [
              "<div>\n",
              "<style scoped>\n",
              "    .dataframe tbody tr th:only-of-type {\n",
              "        vertical-align: middle;\n",
              "    }\n",
              "\n",
              "    .dataframe tbody tr th {\n",
              "        vertical-align: top;\n",
              "    }\n",
              "\n",
              "    .dataframe thead th {\n",
              "        text-align: right;\n",
              "    }\n",
              "</style>\n",
              "<table border=\"1\" class=\"dataframe\">\n",
              "  <thead>\n",
              "    <tr style=\"text-align: right;\">\n",
              "      <th></th>\n",
              "      <th>Time Spent at DentMax Booth</th>\n",
              "      <th>Time Spent at DentMed/OxyMax Booth</th>\n",
              "      <th>Total Time spent at show</th>\n",
              "      <th>% Buying from DentMax in the past</th>\n",
              "      <th>Historical Sales Index</th>\n",
              "      <th>Sales Frequency</th>\n",
              "      <th>Length of Relationship</th>\n",
              "      <th>Number of Referrals Offered</th>\n",
              "      <th>Importance of Image Quality</th>\n",
              "      <th>Importance of Diagnostic Flexibility</th>\n",
              "      <th>Importance of Software Intergation</th>\n",
              "      <th>Importance of Technical Assistance</th>\n",
              "      <th>Importance of Price</th>\n",
              "      <th>Trust in TV ads</th>\n",
              "      <th>Trust in Radio Ads</th>\n",
              "      <th>Trust in Internet Ads</th>\n",
              "      <th>Trust in Dental Magazine Ads</th>\n",
              "      <th>Trust in Peers</th>\n",
              "      <th>cluster</th>\n",
              "    </tr>\n",
              "  </thead>\n",
              "  <tbody>\n",
              "    <tr>\n",
              "      <th>5</th>\n",
              "      <td>36</td>\n",
              "      <td>78</td>\n",
              "      <td>180</td>\n",
              "      <td>45</td>\n",
              "      <td>64</td>\n",
              "      <td>5</td>\n",
              "      <td>9</td>\n",
              "      <td>2</td>\n",
              "      <td>6</td>\n",
              "      <td>5</td>\n",
              "      <td>6</td>\n",
              "      <td>6</td>\n",
              "      <td>6</td>\n",
              "      <td>4</td>\n",
              "      <td>5</td>\n",
              "      <td>6</td>\n",
              "      <td>6</td>\n",
              "      <td>7</td>\n",
              "      <td>2</td>\n",
              "    </tr>\n",
              "    <tr>\n",
              "      <th>9</th>\n",
              "      <td>36</td>\n",
              "      <td>79</td>\n",
              "      <td>179</td>\n",
              "      <td>45</td>\n",
              "      <td>64</td>\n",
              "      <td>4</td>\n",
              "      <td>9</td>\n",
              "      <td>2</td>\n",
              "      <td>6</td>\n",
              "      <td>6</td>\n",
              "      <td>7</td>\n",
              "      <td>6</td>\n",
              "      <td>6</td>\n",
              "      <td>5</td>\n",
              "      <td>4</td>\n",
              "      <td>6</td>\n",
              "      <td>6</td>\n",
              "      <td>7</td>\n",
              "      <td>2</td>\n",
              "    </tr>\n",
              "    <tr>\n",
              "      <th>17</th>\n",
              "      <td>35</td>\n",
              "      <td>78</td>\n",
              "      <td>180</td>\n",
              "      <td>45</td>\n",
              "      <td>64</td>\n",
              "      <td>5</td>\n",
              "      <td>9</td>\n",
              "      <td>2</td>\n",
              "      <td>6</td>\n",
              "      <td>6</td>\n",
              "      <td>7</td>\n",
              "      <td>6</td>\n",
              "      <td>6</td>\n",
              "      <td>4</td>\n",
              "      <td>5</td>\n",
              "      <td>6</td>\n",
              "      <td>6</td>\n",
              "      <td>7</td>\n",
              "      <td>2</td>\n",
              "    </tr>\n",
              "    <tr>\n",
              "      <th>18</th>\n",
              "      <td>37</td>\n",
              "      <td>78</td>\n",
              "      <td>181</td>\n",
              "      <td>45</td>\n",
              "      <td>65</td>\n",
              "      <td>4</td>\n",
              "      <td>9</td>\n",
              "      <td>2</td>\n",
              "      <td>6</td>\n",
              "      <td>5</td>\n",
              "      <td>6</td>\n",
              "      <td>6</td>\n",
              "      <td>6</td>\n",
              "      <td>4</td>\n",
              "      <td>5</td>\n",
              "      <td>6</td>\n",
              "      <td>6</td>\n",
              "      <td>7</td>\n",
              "      <td>2</td>\n",
              "    </tr>\n",
              "    <tr>\n",
              "      <th>20</th>\n",
              "      <td>36</td>\n",
              "      <td>78</td>\n",
              "      <td>180</td>\n",
              "      <td>45</td>\n",
              "      <td>63</td>\n",
              "      <td>5</td>\n",
              "      <td>9</td>\n",
              "      <td>2</td>\n",
              "      <td>6</td>\n",
              "      <td>5</td>\n",
              "      <td>7</td>\n",
              "      <td>6</td>\n",
              "      <td>6</td>\n",
              "      <td>4</td>\n",
              "      <td>5</td>\n",
              "      <td>6</td>\n",
              "      <td>6</td>\n",
              "      <td>7</td>\n",
              "      <td>2</td>\n",
              "    </tr>\n",
              "    <tr>\n",
              "      <th>...</th>\n",
              "      <td>...</td>\n",
              "      <td>...</td>\n",
              "      <td>...</td>\n",
              "      <td>...</td>\n",
              "      <td>...</td>\n",
              "      <td>...</td>\n",
              "      <td>...</td>\n",
              "      <td>...</td>\n",
              "      <td>...</td>\n",
              "      <td>...</td>\n",
              "      <td>...</td>\n",
              "      <td>...</td>\n",
              "      <td>...</td>\n",
              "      <td>...</td>\n",
              "      <td>...</td>\n",
              "      <td>...</td>\n",
              "      <td>...</td>\n",
              "      <td>...</td>\n",
              "      <td>...</td>\n",
              "    </tr>\n",
              "    <tr>\n",
              "      <th>2280</th>\n",
              "      <td>36</td>\n",
              "      <td>78</td>\n",
              "      <td>180</td>\n",
              "      <td>45</td>\n",
              "      <td>64</td>\n",
              "      <td>4</td>\n",
              "      <td>9</td>\n",
              "      <td>2</td>\n",
              "      <td>6</td>\n",
              "      <td>6</td>\n",
              "      <td>6</td>\n",
              "      <td>6</td>\n",
              "      <td>6</td>\n",
              "      <td>5</td>\n",
              "      <td>5</td>\n",
              "      <td>6</td>\n",
              "      <td>6</td>\n",
              "      <td>7</td>\n",
              "      <td>2</td>\n",
              "    </tr>\n",
              "    <tr>\n",
              "      <th>2282</th>\n",
              "      <td>36</td>\n",
              "      <td>78</td>\n",
              "      <td>181</td>\n",
              "      <td>46</td>\n",
              "      <td>63</td>\n",
              "      <td>4</td>\n",
              "      <td>9</td>\n",
              "      <td>2</td>\n",
              "      <td>6</td>\n",
              "      <td>6</td>\n",
              "      <td>7</td>\n",
              "      <td>6</td>\n",
              "      <td>6</td>\n",
              "      <td>4</td>\n",
              "      <td>5</td>\n",
              "      <td>6</td>\n",
              "      <td>6</td>\n",
              "      <td>7</td>\n",
              "      <td>2</td>\n",
              "    </tr>\n",
              "    <tr>\n",
              "      <th>2284</th>\n",
              "      <td>36</td>\n",
              "      <td>78</td>\n",
              "      <td>180</td>\n",
              "      <td>44</td>\n",
              "      <td>64</td>\n",
              "      <td>4</td>\n",
              "      <td>9</td>\n",
              "      <td>2</td>\n",
              "      <td>6</td>\n",
              "      <td>6</td>\n",
              "      <td>6</td>\n",
              "      <td>6</td>\n",
              "      <td>6</td>\n",
              "      <td>5</td>\n",
              "      <td>4</td>\n",
              "      <td>6</td>\n",
              "      <td>6</td>\n",
              "      <td>6</td>\n",
              "      <td>2</td>\n",
              "    </tr>\n",
              "    <tr>\n",
              "      <th>2287</th>\n",
              "      <td>36</td>\n",
              "      <td>78</td>\n",
              "      <td>181</td>\n",
              "      <td>45</td>\n",
              "      <td>63</td>\n",
              "      <td>4</td>\n",
              "      <td>9</td>\n",
              "      <td>2</td>\n",
              "      <td>6</td>\n",
              "      <td>6</td>\n",
              "      <td>7</td>\n",
              "      <td>6</td>\n",
              "      <td>6</td>\n",
              "      <td>4</td>\n",
              "      <td>5</td>\n",
              "      <td>6</td>\n",
              "      <td>6</td>\n",
              "      <td>7</td>\n",
              "      <td>2</td>\n",
              "    </tr>\n",
              "    <tr>\n",
              "      <th>2297</th>\n",
              "      <td>35</td>\n",
              "      <td>78</td>\n",
              "      <td>180</td>\n",
              "      <td>46</td>\n",
              "      <td>64</td>\n",
              "      <td>5</td>\n",
              "      <td>9</td>\n",
              "      <td>2</td>\n",
              "      <td>6</td>\n",
              "      <td>6</td>\n",
              "      <td>6</td>\n",
              "      <td>6</td>\n",
              "      <td>6</td>\n",
              "      <td>4</td>\n",
              "      <td>5</td>\n",
              "      <td>6</td>\n",
              "      <td>6</td>\n",
              "      <td>7</td>\n",
              "      <td>2</td>\n",
              "    </tr>\n",
              "  </tbody>\n",
              "</table>\n",
              "<p>506 rows × 19 columns</p>\n",
              "</div>"
            ],
            "text/plain": [
              "      Time Spent at DentMax Booth  ...  cluster\n",
              "5                              36  ...        2\n",
              "9                              36  ...        2\n",
              "17                             35  ...        2\n",
              "18                             37  ...        2\n",
              "20                             36  ...        2\n",
              "...                           ...  ...      ...\n",
              "2280                           36  ...        2\n",
              "2282                           36  ...        2\n",
              "2284                           36  ...        2\n",
              "2287                           36  ...        2\n",
              "2297                           35  ...        2\n",
              "\n",
              "[506 rows x 19 columns]"
            ]
          },
          "metadata": {
            "tags": []
          },
          "execution_count": 24
        }
      ]
    },
    {
      "cell_type": "code",
      "metadata": {
        "id": "HrAiINdAbz-I"
      },
      "source": [
        "interested_segment_data = interested_segment_data[['Importance of Image Quality','Importance of Diagnostic Flexibility','Importance of Software Intergation','Importance of Technical Assistance']].apply(pd.Series.value_counts)"
      ],
      "execution_count": 25,
      "outputs": []
    },
    {
      "cell_type": "code",
      "metadata": {
        "id": "gtEb0-UPb0Bh"
      },
      "source": [
        "interested_segment_data = interested_segment_data.fillna(0)"
      ],
      "execution_count": 26,
      "outputs": []
    },
    {
      "cell_type": "code",
      "metadata": {
        "id": "wSFSo-POcAi5",
        "colab": {
          "base_uri": "https://localhost:8080/",
          "height": 621
        },
        "outputId": "86d07e9a-34e2-4a5b-c3f4-a89d7318d5b2"
      },
      "source": [
        "fields = ['Importance of Image Quality','Importance of Diagnostic Flexibility','Importance of Software Intergation','Importance of Technical Assistance']\n",
        "colors = ['#1D2F6F', '#8390FA', '#6EAF46', '#FAC748']\n",
        "labels = ['Image Quality', 'Diagnostic Flexibility', 'Software Integration', 'Technical Assistance']\n",
        "# figure and axis\n",
        "fig, ax = plt.subplots(1, figsize=(12, 10))\n",
        "# plot bars\n",
        "left = len(interested_segment_data) * [0]\n",
        "for idx, name in enumerate(fields):\n",
        "    plt.barh(interested_segment_data.index, interested_segment_data[name], left = left, color=colors[idx])\n",
        "    left = left + interested_segment_data[name]\n",
        "# title, legend, labels\n",
        "plt.title('Importance of Product Features', loc='left')\n",
        "plt.legend(labels, ncol=4, frameon=False)\n",
        "plt.xlabel('Count of Scores')\n",
        "plt.ylabel('Scores')\n",
        "# remove spines\n",
        "ax.spines['right'].set_visible(False)\n",
        "ax.spines['left'].set_visible(False)\n",
        "ax.spines['top'].set_visible(False)\n",
        "ax.spines['bottom'].set_visible(False)\n",
        "# adjust limits and draw grid lines\n",
        "plt.ylim(-0.5, ax.get_yticks()[-1] + 0.5)\n",
        "ax.set_axisbelow(True)\n",
        "ax.xaxis.grid(color='gray', linestyle='dashed')\n",
        "plt.show()"
      ],
      "execution_count": 27,
      "outputs": [
        {
          "output_type": "display_data",
          "data": {
            "image/png": "[encoded data removed]",
            "text/plain": [
              "<Figure size 864x720 with 1 Axes>"
            ]
          },
          "metadata": {
            "tags": [],
            "needs_background": "light"
          }
        }
      ]
    },
    {
      "cell_type": "code",
      "metadata": {
        "id": "QwrMlWePeW-i"
      },
      "source": [
        ""
      ],
      "execution_count": null,
      "outputs": []
    }
  ]
}